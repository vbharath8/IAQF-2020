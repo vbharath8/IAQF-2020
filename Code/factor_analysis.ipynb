{
 "cells": [
  {
   "cell_type": "code",
   "execution_count": 90,
   "metadata": {},
   "outputs": [],
   "source": [
    "import pandas as pd\n",
    "import numpy as np\n",
    "import statsmodels.api as sm"
   ]
  },
  {
   "cell_type": "code",
   "execution_count": 91,
   "metadata": {},
   "outputs": [],
   "source": [
    "tickers_democratic = ['EXC','F','APTV','STZ','EL','SPWR','KO','WMT','HD','NEE','CSX','MCD','SPG','FSLR','NSC']\n",
    "tickers_republic = ['HON','COP','MRO','C','CRM','GILD','CVX','MRK','PYPL','AXP','V','AMZN','GOOG','QCOM','FB'] "
   ]
  },
  {
   "cell_type": "code",
   "execution_count": 92,
   "metadata": {},
   "outputs": [],
   "source": [
    "prices = pd.read_excel('factor.xlsx', sheet_name='prices', parse_dates=['Dates'], index_col='Dates')\n",
    "prices.columns = prices.columns.str.replace(' US Equity', '')\n",
    "\n",
    "prices_dem = prices[tickers_democratic]\n",
    "prices_rep = prices[tickers_republic]"
   ]
  },
  {
   "cell_type": "code",
   "execution_count": 105,
   "metadata": {},
   "outputs": [],
   "source": [
    "msci_factors = pd.read_excel('factor.xlsx', sheet_name='factors', parse_dates=['Dates'], index_col='Dates')\n",
    "msci_factors.columns = msci_factors.columns.str.replace(' Index', '')"
   ]
  },
  {
   "cell_type": "code",
   "execution_count": 94,
   "metadata": {},
   "outputs": [],
   "source": [
    "fama_factors = pd.read_csv('Fama-French.csv', parse_dates=['Dates'], index_col='Dates')\n",
    "fama_factors = fama_factors/100"
   ]
  },
  {
   "cell_type": "code",
   "execution_count": 223,
   "metadata": {},
   "outputs": [
    {
     "data": {
      "text/html": [
       "<div>\n",
       "<style scoped>\n",
       "    .dataframe tbody tr th:only-of-type {\n",
       "        vertical-align: middle;\n",
       "    }\n",
       "\n",
       "    .dataframe tbody tr th {\n",
       "        vertical-align: top;\n",
       "    }\n",
       "\n",
       "    .dataframe thead th {\n",
       "        text-align: right;\n",
       "    }\n",
       "</style>\n",
       "<table border=\"1\" class=\"dataframe\">\n",
       "  <thead>\n",
       "    <tr style=\"text-align: right;\">\n",
       "      <th></th>\n",
       "      <th>M2US</th>\n",
       "      <th>M2US000$</th>\n",
       "      <th>M2USEV</th>\n",
       "      <th>M2USSNQ</th>\n",
       "      <th>M2US000G</th>\n",
       "      <th>M2US000V</th>\n",
       "      <th>M2USQU</th>\n",
       "      <th>M2US00MV</th>\n",
       "      <th>M2USSC</th>\n",
       "      <th>M2USVT</th>\n",
       "      <th>M1CXNNA</th>\n",
       "      <th>GSIN</th>\n",
       "    </tr>\n",
       "    <tr>\n",
       "      <th>Dates</th>\n",
       "      <th></th>\n",
       "      <th></th>\n",
       "      <th></th>\n",
       "      <th></th>\n",
       "      <th></th>\n",
       "      <th></th>\n",
       "      <th></th>\n",
       "      <th></th>\n",
       "      <th></th>\n",
       "      <th></th>\n",
       "      <th></th>\n",
       "      <th></th>\n",
       "    </tr>\n",
       "  </thead>\n",
       "  <tbody>\n",
       "    <tr>\n",
       "      <td>2020-02-12</td>\n",
       "      <td>14289.87</td>\n",
       "      <td>3282.45</td>\n",
       "      <td>1698.24</td>\n",
       "      <td>5103.44</td>\n",
       "      <td>15699.08</td>\n",
       "      <td>16604.70</td>\n",
       "      <td>3263.62</td>\n",
       "      <td>2420.88</td>\n",
       "      <td>600.19</td>\n",
       "      <td>10976.72</td>\n",
       "      <td>3858.22</td>\n",
       "      <td>149.61</td>\n",
       "    </tr>\n",
       "    <tr>\n",
       "      <td>2020-02-13</td>\n",
       "      <td>14277.30</td>\n",
       "      <td>3304.51</td>\n",
       "      <td>1690.85</td>\n",
       "      <td>5089.76</td>\n",
       "      <td>15705.04</td>\n",
       "      <td>16567.34</td>\n",
       "      <td>3254.58</td>\n",
       "      <td>2419.10</td>\n",
       "      <td>601.71</td>\n",
       "      <td>10979.45</td>\n",
       "      <td>3844.07</td>\n",
       "      <td>149.42</td>\n",
       "    </tr>\n",
       "    <tr>\n",
       "      <td>2020-02-14</td>\n",
       "      <td>14308.85</td>\n",
       "      <td>3328.10</td>\n",
       "      <td>1680.14</td>\n",
       "      <td>5101.92</td>\n",
       "      <td>15780.93</td>\n",
       "      <td>16556.51</td>\n",
       "      <td>3267.00</td>\n",
       "      <td>2418.49</td>\n",
       "      <td>601.10</td>\n",
       "      <td>11015.04</td>\n",
       "      <td>3842.54</td>\n",
       "      <td>149.72</td>\n",
       "    </tr>\n",
       "    <tr>\n",
       "      <td>2020-02-17</td>\n",
       "      <td>14308.85</td>\n",
       "      <td>3328.10</td>\n",
       "      <td>1680.14</td>\n",
       "      <td>5101.92</td>\n",
       "      <td>15780.93</td>\n",
       "      <td>16556.51</td>\n",
       "      <td>3267.00</td>\n",
       "      <td>2418.49</td>\n",
       "      <td>601.10</td>\n",
       "      <td>11015.04</td>\n",
       "      <td>3842.54</td>\n",
       "      <td>149.68</td>\n",
       "    </tr>\n",
       "    <tr>\n",
       "      <td>2020-02-18</td>\n",
       "      <td>14308.85</td>\n",
       "      <td>3328.10</td>\n",
       "      <td>1680.14</td>\n",
       "      <td>5101.92</td>\n",
       "      <td>15780.93</td>\n",
       "      <td>16556.51</td>\n",
       "      <td>3267.00</td>\n",
       "      <td>2418.49</td>\n",
       "      <td>601.10</td>\n",
       "      <td>11015.04</td>\n",
       "      <td>3842.54</td>\n",
       "      <td>149.68</td>\n",
       "    </tr>\n",
       "  </tbody>\n",
       "</table>\n",
       "</div>"
      ],
      "text/plain": [
       "                M2US  M2US000$   M2USEV  M2USSNQ  M2US000G  M2US000V   M2USQU  \\\n",
       "Dates                                                                           \n",
       "2020-02-12  14289.87   3282.45  1698.24  5103.44  15699.08  16604.70  3263.62   \n",
       "2020-02-13  14277.30   3304.51  1690.85  5089.76  15705.04  16567.34  3254.58   \n",
       "2020-02-14  14308.85   3328.10  1680.14  5101.92  15780.93  16556.51  3267.00   \n",
       "2020-02-17  14308.85   3328.10  1680.14  5101.92  15780.93  16556.51  3267.00   \n",
       "2020-02-18  14308.85   3328.10  1680.14  5101.92  15780.93  16556.51  3267.00   \n",
       "\n",
       "            M2US00MV  M2USSC    M2USVT  M1CXNNA    GSIN  \n",
       "Dates                                                    \n",
       "2020-02-12   2420.88  600.19  10976.72  3858.22  149.61  \n",
       "2020-02-13   2419.10  601.71  10979.45  3844.07  149.42  \n",
       "2020-02-14   2418.49  601.10  11015.04  3842.54  149.72  \n",
       "2020-02-17   2418.49  601.10  11015.04  3842.54  149.68  \n",
       "2020-02-18   2418.49  601.10  11015.04  3842.54  149.68  "
      ]
     },
     "execution_count": 223,
     "metadata": {},
     "output_type": "execute_result"
    }
   ],
   "source": [
    "msci_factors.tail()"
   ]
  },
  {
   "cell_type": "markdown",
   "metadata": {},
   "source": [
    "# 2016"
   ]
  },
  {
   "cell_type": "code",
   "execution_count": 163,
   "metadata": {},
   "outputs": [],
   "source": [
    "dem_2016_ret = prices_dem.loc['2016-01-01':'2016-12-31'].resample('W-FRI').last().pct_change()[1:]\n",
    "dem_port_2016 = dem_2016_ret.mean(axis=1)\n",
    "\n",
    "rep_2016_ret = prices_rep.loc['2016-01-01':'2016-12-31'].resample('W-FRI').last().pct_change()[1:]\n",
    "rep_port_2016 = rep_2016_ret.mean(axis=1)"
   ]
  },
  {
   "cell_type": "code",
   "execution_count": 164,
   "metadata": {},
   "outputs": [
    {
     "name": "stdout",
     "output_type": "stream",
     "text": [
      "M2US000$  :  0.9047305202187245\n",
      "M2USEV  :  1.1476272063891566\n",
      "M2USSNQ  :  0.9271407986171323\n",
      "M2US000G  :  1.0450124629023874\n",
      "M2US000V  :  0.9555845073755123\n",
      "M2USQU  :  1.0004510812660032\n",
      "M2US00MV  :  1.082981420729675\n",
      "M2USSC  :  1.3666372282931771\n",
      "M2USVT  :  0.8964686654686754\n",
      "GSIN  :  0.9385040229766317\n"
     ]
    },
    {
     "name": "stderr",
     "output_type": "stream",
     "text": [
      "C:\\Users\\vinay\\AppData\\Local\\Continuum\\anaconda3\\lib\\site-packages\\numpy\\core\\fromnumeric.py:2389: FutureWarning: Method .ptp is deprecated and will be removed in a future version. Use numpy.ptp instead.\n",
      "  return ptp(axis=axis, out=out, **kwargs)\n"
     ]
    }
   ],
   "source": [
    "#Removing beta from factors\n",
    "\n",
    "msci_factor_ret = msci_factors.loc['2016-01-01':'2016-12-31'].resample('W-FRI').last().pct_change()[1:].dropna(axis=1,how='any')\n",
    "beta_adj_msci_factor = msci_factor_ret.copy()\n",
    "x=msci_factor_ret['M2US']\n",
    "x = sm.add_constant(x)\n",
    "for col in msci_factor_ret.drop('M2US', axis=1):\n",
    "    \n",
    "    y = msci_factor_ret[col]\n",
    "    mod = sm.OLS(y, x)\n",
    "    res = mod.fit()\n",
    "    print(col, ' : ' ,res.params[1])\n",
    "    \n",
    "    beta_adj_msci_factor[col] = beta_adj_msci_factor[col] - beta_adj_msci_factor['M2US']*res.params[1]\n",
    "\n",
    "beta_adj_msci_factor['constant'] = 1"
   ]
  },
  {
   "cell_type": "code",
   "execution_count": 184,
   "metadata": {},
   "outputs": [],
   "source": [
    "mod_dem = sm.OLS(dem_port_2016, beta_adj_msci_factor.drop('M2US000V', axis=1))\n",
    "res_dem = mod_dem.fit()\n",
    "#res_dem.summary()"
   ]
  },
  {
   "cell_type": "code",
   "execution_count": 185,
   "metadata": {},
   "outputs": [],
   "source": [
    "mod_rep = sm.OLS(rep_port_2016, beta_adj_msci_factor.drop('M2US000V', axis=1))\n",
    "res_rep = mod_rep.fit()\n",
    "#res_rep.summary()"
   ]
  },
  {
   "cell_type": "code",
   "execution_count": 224,
   "metadata": {},
   "outputs": [
    {
     "data": {
      "text/html": [
       "<table class=\"simpletable\">\n",
       "<caption>OLS Regression Results</caption>\n",
       "<tr>\n",
       "  <th>Dep. Variable:</th>            <td>y</td>        <th>  R-squared:         </th> <td>   0.769</td>\n",
       "</tr>\n",
       "<tr>\n",
       "  <th>Model:</th>                   <td>OLS</td>       <th>  Adj. R-squared:    </th> <td>   0.760</td>\n",
       "</tr>\n",
       "<tr>\n",
       "  <th>Method:</th>             <td>Least Squares</td>  <th>  F-statistic:       </th> <td>   83.08</td>\n",
       "</tr>\n",
       "<tr>\n",
       "  <th>Date:</th>             <td>Fri, 21 Feb 2020</td> <th>  Prob (F-statistic):</th> <td>1.81e-73</td>\n",
       "</tr>\n",
       "<tr>\n",
       "  <th>Time:</th>                 <td>13:15:18</td>     <th>  Log-Likelihood:    </th> <td>  1023.9</td>\n",
       "</tr>\n",
       "<tr>\n",
       "  <th>No. Observations:</th>      <td>   260</td>      <th>  AIC:               </th> <td>  -2026.</td>\n",
       "</tr>\n",
       "<tr>\n",
       "  <th>Df Residuals:</th>          <td>   249</td>      <th>  BIC:               </th> <td>  -1987.</td>\n",
       "</tr>\n",
       "<tr>\n",
       "  <th>Df Model:</th>              <td>    10</td>      <th>                     </th>     <td> </td>   \n",
       "</tr>\n",
       "<tr>\n",
       "  <th>Covariance Type:</th>      <td>nonrobust</td>    <th>                     </th>     <td> </td>   \n",
       "</tr>\n",
       "</table>\n",
       "<table class=\"simpletable\">\n",
       "<tr>\n",
       "      <td></td>        <th>coef</th>     <th>std err</th>      <th>t</th>      <th>P>|t|</th>  <th>[0.025</th>    <th>0.975]</th>  \n",
       "</tr>\n",
       "<tr>\n",
       "  <th>M2US</th>     <td>    1.0168</td> <td>    0.037</td> <td>   27.811</td> <td> 0.000</td> <td>    0.945</td> <td>    1.089</td>\n",
       "</tr>\n",
       "<tr>\n",
       "  <th>M2US000$</th> <td>    0.3016</td> <td>    0.140</td> <td>    2.153</td> <td> 0.032</td> <td>    0.026</td> <td>    0.578</td>\n",
       "</tr>\n",
       "<tr>\n",
       "  <th>M2USEV</th>   <td>    0.3757</td> <td>    0.165</td> <td>    2.283</td> <td> 0.023</td> <td>    0.052</td> <td>    0.700</td>\n",
       "</tr>\n",
       "<tr>\n",
       "  <th>M2USSNQ</th>  <td>   -0.3970</td> <td>    0.413</td> <td>   -0.961</td> <td> 0.337</td> <td>   -1.211</td> <td>    0.417</td>\n",
       "</tr>\n",
       "<tr>\n",
       "  <th>M2US000G</th> <td>    0.0044</td> <td>    0.407</td> <td>    0.011</td> <td> 0.991</td> <td>   -0.798</td> <td>    0.807</td>\n",
       "</tr>\n",
       "<tr>\n",
       "  <th>M2USQU</th>   <td>    0.4071</td> <td>    0.323</td> <td>    1.262</td> <td> 0.208</td> <td>   -0.228</td> <td>    1.043</td>\n",
       "</tr>\n",
       "<tr>\n",
       "  <th>M2US00MV</th> <td>    0.5528</td> <td>    0.157</td> <td>    3.517</td> <td> 0.001</td> <td>    0.243</td> <td>    0.862</td>\n",
       "</tr>\n",
       "<tr>\n",
       "  <th>M2USSC</th>   <td>   -0.0955</td> <td>    0.107</td> <td>   -0.891</td> <td> 0.374</td> <td>   -0.307</td> <td>    0.116</td>\n",
       "</tr>\n",
       "<tr>\n",
       "  <th>M2USVT</th>   <td>    1.2250</td> <td>    0.466</td> <td>    2.627</td> <td> 0.009</td> <td>    0.307</td> <td>    2.144</td>\n",
       "</tr>\n",
       "<tr>\n",
       "  <th>GSIN</th>     <td>    0.0698</td> <td>    0.086</td> <td>    0.813</td> <td> 0.417</td> <td>   -0.099</td> <td>    0.239</td>\n",
       "</tr>\n",
       "<tr>\n",
       "  <th>constant</th> <td>   -0.0008</td> <td>    0.000</td> <td>   -2.601</td> <td> 0.010</td> <td>   -0.001</td> <td>   -0.000</td>\n",
       "</tr>\n",
       "</table>\n",
       "<table class=\"simpletable\">\n",
       "<tr>\n",
       "  <th>Omnibus:</th>       <td>96.628</td> <th>  Durbin-Watson:     </th> <td>   2.025</td> \n",
       "</tr>\n",
       "<tr>\n",
       "  <th>Prob(Omnibus):</th> <td> 0.000</td> <th>  Jarque-Bera (JB):  </th> <td> 735.826</td> \n",
       "</tr>\n",
       "<tr>\n",
       "  <th>Skew:</th>          <td>-1.265</td> <th>  Prob(JB):          </th> <td>1.65e-160</td>\n",
       "</tr>\n",
       "<tr>\n",
       "  <th>Kurtosis:</th>      <td>10.844</td> <th>  Cond. No.          </th> <td>1.96e+03</td> \n",
       "</tr>\n",
       "</table><br/><br/>Warnings:<br/>[1] Standard Errors assume that the covariance matrix of the errors is correctly specified.<br/>[2] The condition number is large, 1.96e+03. This might indicate that there are<br/>strong multicollinearity or other numerical problems."
      ],
      "text/plain": [
       "<class 'statsmodels.iolib.summary.Summary'>\n",
       "\"\"\"\n",
       "                            OLS Regression Results                            \n",
       "==============================================================================\n",
       "Dep. Variable:                      y   R-squared:                       0.769\n",
       "Model:                            OLS   Adj. R-squared:                  0.760\n",
       "Method:                 Least Squares   F-statistic:                     83.08\n",
       "Date:                Fri, 21 Feb 2020   Prob (F-statistic):           1.81e-73\n",
       "Time:                        13:15:18   Log-Likelihood:                 1023.9\n",
       "No. Observations:                 260   AIC:                            -2026.\n",
       "Df Residuals:                     249   BIC:                            -1987.\n",
       "Df Model:                          10                                         \n",
       "Covariance Type:            nonrobust                                         \n",
       "==============================================================================\n",
       "                 coef    std err          t      P>|t|      [0.025      0.975]\n",
       "------------------------------------------------------------------------------\n",
       "M2US           1.0168      0.037     27.811      0.000       0.945       1.089\n",
       "M2US000$       0.3016      0.140      2.153      0.032       0.026       0.578\n",
       "M2USEV         0.3757      0.165      2.283      0.023       0.052       0.700\n",
       "M2USSNQ       -0.3970      0.413     -0.961      0.337      -1.211       0.417\n",
       "M2US000G       0.0044      0.407      0.011      0.991      -0.798       0.807\n",
       "M2USQU         0.4071      0.323      1.262      0.208      -0.228       1.043\n",
       "M2US00MV       0.5528      0.157      3.517      0.001       0.243       0.862\n",
       "M2USSC        -0.0955      0.107     -0.891      0.374      -0.307       0.116\n",
       "M2USVT         1.2250      0.466      2.627      0.009       0.307       2.144\n",
       "GSIN           0.0698      0.086      0.813      0.417      -0.099       0.239\n",
       "constant      -0.0008      0.000     -2.601      0.010      -0.001      -0.000\n",
       "==============================================================================\n",
       "Omnibus:                       96.628   Durbin-Watson:                   2.025\n",
       "Prob(Omnibus):                  0.000   Jarque-Bera (JB):              735.826\n",
       "Skew:                          -1.265   Prob(JB):                    1.65e-160\n",
       "Kurtosis:                      10.844   Cond. No.                     1.96e+03\n",
       "==============================================================================\n",
       "\n",
       "Warnings:\n",
       "[1] Standard Errors assume that the covariance matrix of the errors is correctly specified.\n",
       "[2] The condition number is large, 1.96e+03. This might indicate that there are\n",
       "strong multicollinearity or other numerical problems.\n",
       "\"\"\""
      ]
     },
     "execution_count": 224,
     "metadata": {},
     "output_type": "execute_result"
    }
   ],
   "source": [
    "res_dem.summary()"
   ]
  },
  {
   "cell_type": "code",
   "execution_count": 186,
   "metadata": {},
   "outputs": [
    {
     "data": {
      "text/plain": [
       "M2US        1.006876\n",
       "M2US000$   -0.035984\n",
       "M2USEV      0.112819\n",
       "M2USSNQ    -1.105502\n",
       "M2US000G    0.358919\n",
       "M2USQU      0.435496\n",
       "M2US00MV    0.696767\n",
       "M2USSC     -0.383613\n",
       "M2USVT      2.037579\n",
       "GSIN       -0.032015\n",
       "constant   -0.004218\n",
       "dtype: float64"
      ]
     },
     "execution_count": 186,
     "metadata": {},
     "output_type": "execute_result"
    }
   ],
   "source": [
    "res_dem.params"
   ]
  },
  {
   "cell_type": "code",
   "execution_count": 187,
   "metadata": {},
   "outputs": [
    {
     "data": {
      "text/plain": [
       "M2US        1.221149\n",
       "M2US000$    0.391684\n",
       "M2USEV      0.052525\n",
       "M2USSNQ     0.221567\n",
       "M2US000G   -1.453241\n",
       "M2USQU     -0.948014\n",
       "M2US00MV   -0.663611\n",
       "M2USSC      0.110182\n",
       "M2USVT     -3.129134\n",
       "GSIN        0.308152\n",
       "constant    0.000350\n",
       "dtype: float64"
      ]
     },
     "execution_count": 187,
     "metadata": {},
     "output_type": "execute_result"
    }
   ],
   "source": [
    "res_rep.params"
   ]
  },
  {
   "cell_type": "markdown",
   "metadata": {},
   "source": [
    "# 2012"
   ]
  },
  {
   "cell_type": "code",
   "execution_count": 203,
   "metadata": {},
   "outputs": [],
   "source": [
    "dem_2012_ret = prices_dem.loc['2012-01-01':'2012-12-31'].resample('W-FRI').last().pct_change()[1:]\n",
    "dem_port_2012 = dem_2012_ret.mean(axis=1)\n",
    "\n",
    "rep_2012_ret = prices_rep.loc['2012-01-01':'2012-12-31'].resample('W-FRI').last().pct_change()[1:]\n",
    "rep_port_2012 = rep_2012_ret.mean(axis=1)"
   ]
  },
  {
   "cell_type": "code",
   "execution_count": 204,
   "metadata": {},
   "outputs": [
    {
     "name": "stdout",
     "output_type": "stream",
     "text": [
      "M2US000$  :  0.8296087355189441\n",
      "M2USEV  :  1.1173724276716646\n",
      "M2USSNQ  :  0.9398094107694933\n",
      "M2US000G  :  1.02268030106291\n",
      "M2US000V  :  0.9766667050521509\n",
      "M2USQU  :  0.9331571772157226\n",
      "M2US00MV  :  1.13608565034796\n",
      "M2USSC  :  1.1810983227636636\n",
      "GSIN  :  0.9988872891758378\n"
     ]
    }
   ],
   "source": [
    "#Removing beta from factors\n",
    "\n",
    "msci_factor_ret = msci_factors.loc['2012-01-01':'2012-12-31'].resample('W-FRI').last().pct_change()[1:].dropna(axis=1,how='any')\n",
    "beta_adj_msci_factor = msci_factor_ret.copy()\n",
    "x=msci_factor_ret['M2US']\n",
    "x = sm.add_constant(x)\n",
    "for col in msci_factor_ret.drop('M2US', axis=1):\n",
    "    \n",
    "    y = msci_factor_ret[col]\n",
    "    mod = sm.OLS(y, x)\n",
    "    res = mod.fit()\n",
    "    print(col, ' : ' ,res.params[1])\n",
    "    \n",
    "    beta_adj_msci_factor[col] = beta_adj_msci_factor[col] - beta_adj_msci_factor['M2US']*res.params[1]\n",
    "\n",
    "beta_adj_msci_factor['constant'] = 1"
   ]
  },
  {
   "cell_type": "code",
   "execution_count": 207,
   "metadata": {},
   "outputs": [],
   "source": [
    "mod_dem_2012 = sm.OLS(dem_port_2012, beta_adj_msci_factor.drop('M2US000V', axis=1))\n",
    "res_dem_2012 = mod_dem_2012.fit()\n",
    "#res_dem.summary()"
   ]
  },
  {
   "cell_type": "code",
   "execution_count": 208,
   "metadata": {},
   "outputs": [],
   "source": [
    "mod_rep_2012 = sm.OLS(rep_port_2012, beta_adj_msci_factor.drop('M2US000V', axis=1))\n",
    "res_rep_2012 = mod_rep_2012.fit()\n",
    "#res_rep.summary()"
   ]
  },
  {
   "cell_type": "code",
   "execution_count": 209,
   "metadata": {},
   "outputs": [
    {
     "data": {
      "text/plain": [
       "M2US        1.012491\n",
       "M2US000$   -0.386811\n",
       "M2USEV      0.068539\n",
       "M2USSNQ    -0.798950\n",
       "M2US000G    1.016615\n",
       "M2USQU     -0.377044\n",
       "M2US00MV    0.639228\n",
       "M2USSC     -0.092547\n",
       "GSIN        0.275091\n",
       "constant   -0.000035\n",
       "dtype: float64"
      ]
     },
     "execution_count": 209,
     "metadata": {},
     "output_type": "execute_result"
    }
   ],
   "source": [
    "res_dem_2012.params"
   ]
  },
  {
   "cell_type": "code",
   "execution_count": 211,
   "metadata": {},
   "outputs": [
    {
     "data": {
      "text/plain": [
       "M2US        1.097745\n",
       "M2US000$   -0.186298\n",
       "M2USEV     -0.133908\n",
       "M2USSNQ     0.427026\n",
       "M2US000G    0.757193\n",
       "M2USQU     -0.493611\n",
       "M2US00MV   -0.080965\n",
       "M2USSC     -0.086464\n",
       "GSIN        0.385136\n",
       "constant    0.001532\n",
       "dtype: float64"
      ]
     },
     "execution_count": 211,
     "metadata": {},
     "output_type": "execute_result"
    }
   ],
   "source": [
    "res_rep_2012.params"
   ]
  },
  {
   "cell_type": "code",
   "execution_count": 215,
   "metadata": {},
   "outputs": [
    {
     "data": {
      "text/html": [
       "<table class=\"simpletable\">\n",
       "<caption>OLS Regression Results</caption>\n",
       "<tr>\n",
       "  <th>Dep. Variable:</th>            <td>y</td>        <th>  R-squared:         </th> <td>   0.796</td>\n",
       "</tr>\n",
       "<tr>\n",
       "  <th>Model:</th>                   <td>OLS</td>       <th>  Adj. R-squared:    </th> <td>   0.752</td>\n",
       "</tr>\n",
       "<tr>\n",
       "  <th>Method:</th>             <td>Least Squares</td>  <th>  F-statistic:       </th> <td>   18.21</td>\n",
       "</tr>\n",
       "<tr>\n",
       "  <th>Date:</th>             <td>Fri, 21 Feb 2020</td> <th>  Prob (F-statistic):</th> <td>7.77e-12</td>\n",
       "</tr>\n",
       "<tr>\n",
       "  <th>Time:</th>                 <td>12:04:16</td>     <th>  Log-Likelihood:    </th> <td>  170.18</td>\n",
       "</tr>\n",
       "<tr>\n",
       "  <th>No. Observations:</th>      <td>    52</td>      <th>  AIC:               </th> <td>  -320.4</td>\n",
       "</tr>\n",
       "<tr>\n",
       "  <th>Df Residuals:</th>          <td>    42</td>      <th>  BIC:               </th> <td>  -300.9</td>\n",
       "</tr>\n",
       "<tr>\n",
       "  <th>Df Model:</th>              <td>     9</td>      <th>                     </th>     <td> </td>   \n",
       "</tr>\n",
       "<tr>\n",
       "  <th>Covariance Type:</th>      <td>nonrobust</td>    <th>                     </th>     <td> </td>   \n",
       "</tr>\n",
       "</table>\n",
       "<table class=\"simpletable\">\n",
       "<tr>\n",
       "      <td></td>        <th>coef</th>     <th>std err</th>      <th>t</th>      <th>P>|t|</th>  <th>[0.025</th>    <th>0.975]</th>  \n",
       "</tr>\n",
       "<tr>\n",
       "  <th>M2US</th>     <td>    1.0977</td> <td>    0.087</td> <td>   12.648</td> <td> 0.000</td> <td>    0.923</td> <td>    1.273</td>\n",
       "</tr>\n",
       "<tr>\n",
       "  <th>M2US000$</th> <td>   -0.1863</td> <td>    0.371</td> <td>   -0.502</td> <td> 0.618</td> <td>   -0.936</td> <td>    0.563</td>\n",
       "</tr>\n",
       "<tr>\n",
       "  <th>M2USEV</th>   <td>   -0.1339</td> <td>    0.405</td> <td>   -0.331</td> <td> 0.743</td> <td>   -0.951</td> <td>    0.684</td>\n",
       "</tr>\n",
       "<tr>\n",
       "  <th>M2USSNQ</th>  <td>    0.4270</td> <td>    0.622</td> <td>    0.687</td> <td> 0.496</td> <td>   -0.828</td> <td>    1.682</td>\n",
       "</tr>\n",
       "<tr>\n",
       "  <th>M2US000G</th> <td>    0.7572</td> <td>    0.729</td> <td>    1.038</td> <td> 0.305</td> <td>   -0.715</td> <td>    2.229</td>\n",
       "</tr>\n",
       "<tr>\n",
       "  <th>M2USQU</th>   <td>   -0.4936</td> <td>    0.472</td> <td>   -1.047</td> <td> 0.301</td> <td>   -1.445</td> <td>    0.458</td>\n",
       "</tr>\n",
       "<tr>\n",
       "  <th>M2US00MV</th> <td>   -0.0810</td> <td>    0.408</td> <td>   -0.199</td> <td> 0.844</td> <td>   -0.904</td> <td>    0.742</td>\n",
       "</tr>\n",
       "<tr>\n",
       "  <th>M2USSC</th>   <td>   -0.0865</td> <td>    0.290</td> <td>   -0.298</td> <td> 0.767</td> <td>   -0.672</td> <td>    0.499</td>\n",
       "</tr>\n",
       "<tr>\n",
       "  <th>GSIN</th>     <td>    0.3851</td> <td>    0.339</td> <td>    1.137</td> <td> 0.262</td> <td>   -0.299</td> <td>    1.069</td>\n",
       "</tr>\n",
       "<tr>\n",
       "  <th>constant</th> <td>    0.0015</td> <td>    0.001</td> <td>    1.039</td> <td> 0.305</td> <td>   -0.001</td> <td>    0.005</td>\n",
       "</tr>\n",
       "</table>\n",
       "<table class=\"simpletable\">\n",
       "<tr>\n",
       "  <th>Omnibus:</th>       <td> 9.194</td> <th>  Durbin-Watson:     </th> <td>   2.212</td>\n",
       "</tr>\n",
       "<tr>\n",
       "  <th>Prob(Omnibus):</th> <td> 0.010</td> <th>  Jarque-Bera (JB):  </th> <td>   9.325</td>\n",
       "</tr>\n",
       "<tr>\n",
       "  <th>Skew:</th>          <td> 0.742</td> <th>  Prob(JB):          </th> <td> 0.00944</td>\n",
       "</tr>\n",
       "<tr>\n",
       "  <th>Kurtosis:</th>      <td> 4.449</td> <th>  Cond. No.          </th> <td>    634.</td>\n",
       "</tr>\n",
       "</table><br/><br/>Warnings:<br/>[1] Standard Errors assume that the covariance matrix of the errors is correctly specified."
      ],
      "text/plain": [
       "<class 'statsmodels.iolib.summary.Summary'>\n",
       "\"\"\"\n",
       "                            OLS Regression Results                            \n",
       "==============================================================================\n",
       "Dep. Variable:                      y   R-squared:                       0.796\n",
       "Model:                            OLS   Adj. R-squared:                  0.752\n",
       "Method:                 Least Squares   F-statistic:                     18.21\n",
       "Date:                Fri, 21 Feb 2020   Prob (F-statistic):           7.77e-12\n",
       "Time:                        12:04:16   Log-Likelihood:                 170.18\n",
       "No. Observations:                  52   AIC:                            -320.4\n",
       "Df Residuals:                      42   BIC:                            -300.9\n",
       "Df Model:                           9                                         \n",
       "Covariance Type:            nonrobust                                         \n",
       "==============================================================================\n",
       "                 coef    std err          t      P>|t|      [0.025      0.975]\n",
       "------------------------------------------------------------------------------\n",
       "M2US           1.0977      0.087     12.648      0.000       0.923       1.273\n",
       "M2US000$      -0.1863      0.371     -0.502      0.618      -0.936       0.563\n",
       "M2USEV        -0.1339      0.405     -0.331      0.743      -0.951       0.684\n",
       "M2USSNQ        0.4270      0.622      0.687      0.496      -0.828       1.682\n",
       "M2US000G       0.7572      0.729      1.038      0.305      -0.715       2.229\n",
       "M2USQU        -0.4936      0.472     -1.047      0.301      -1.445       0.458\n",
       "M2US00MV      -0.0810      0.408     -0.199      0.844      -0.904       0.742\n",
       "M2USSC        -0.0865      0.290     -0.298      0.767      -0.672       0.499\n",
       "GSIN           0.3851      0.339      1.137      0.262      -0.299       1.069\n",
       "constant       0.0015      0.001      1.039      0.305      -0.001       0.005\n",
       "==============================================================================\n",
       "Omnibus:                        9.194   Durbin-Watson:                   2.212\n",
       "Prob(Omnibus):                  0.010   Jarque-Bera (JB):                9.325\n",
       "Skew:                           0.742   Prob(JB):                      0.00944\n",
       "Kurtosis:                       4.449   Cond. No.                         634.\n",
       "==============================================================================\n",
       "\n",
       "Warnings:\n",
       "[1] Standard Errors assume that the covariance matrix of the errors is correctly specified.\n",
       "\"\"\""
      ]
     },
     "execution_count": 215,
     "metadata": {},
     "output_type": "execute_result"
    }
   ],
   "source": [
    "res_rep_2012.summary()"
   ]
  },
  {
   "cell_type": "markdown",
   "metadata": {},
   "source": [
    "# 2016 daily"
   ]
  },
  {
   "cell_type": "code",
   "execution_count": 216,
   "metadata": {},
   "outputs": [],
   "source": [
    "dem_2016_ret = prices_dem.loc['2016-01-01':'2016-12-31'].pct_change()[1:]\n",
    "dem_port_2016 = dem_2016_ret.mean(axis=1)\n",
    "\n",
    "rep_2016_ret = prices_rep.loc['2016-01-01':'2016-12-31'].pct_change()[1:]\n",
    "rep_port_2016 = rep_2016_ret.mean(axis=1)\n",
    "\n",
    "#Removing beta from factors"
   ]
  },
  {
   "cell_type": "code",
   "execution_count": 217,
   "metadata": {},
   "outputs": [
    {
     "name": "stdout",
     "output_type": "stream",
     "text": [
      "M2US000$  :  0.8734821588042267\n",
      "M2USEV  :  1.1122838993201418\n",
      "M2USSNQ  :  0.9330217806819975\n",
      "M2US000G  :  1.014604516699936\n",
      "M2US000V  :  0.9855621466563058\n",
      "M2USQU  :  0.9590881621307368\n",
      "M2US00MV  :  1.0742022920538428\n",
      "M2USSC  :  1.1912460098762763\n",
      "M2USVT  :  0.8898818574498577\n",
      "GSIN  :  0.8667593883250937\n"
     ]
    },
    {
     "name": "stderr",
     "output_type": "stream",
     "text": [
      "C:\\Users\\vinay\\AppData\\Local\\Continuum\\anaconda3\\lib\\site-packages\\numpy\\core\\fromnumeric.py:2389: FutureWarning: Method .ptp is deprecated and will be removed in a future version. Use numpy.ptp instead.\n",
      "  return ptp(axis=axis, out=out, **kwargs)\n"
     ]
    }
   ],
   "source": [
    "msci_factor_ret = msci_factors.loc['2016-01-01':'2016-12-31'].pct_change()[1:].dropna(axis=1,how='any')\n",
    "beta_adj_msci_factor = msci_factor_ret.copy()\n",
    "x=msci_factor_ret['M2US']\n",
    "x = sm.add_constant(x)\n",
    "for col in msci_factor_ret.drop('M2US', axis=1):\n",
    "    \n",
    "    y = msci_factor_ret[col]\n",
    "    mod = sm.OLS(y, x)\n",
    "    res = mod.fit()\n",
    "    print(col, ' : ' ,res.params[1])\n",
    "    \n",
    "    beta_adj_msci_factor[col] = beta_adj_msci_factor[col] - beta_adj_msci_factor['M2US']*res.params[1]\n",
    "\n",
    "beta_adj_msci_factor['constant'] = 1\n",
    "\n",
    "mod_dem = sm.OLS(dem_port_2016, beta_adj_msci_factor.drop('M2US000V', axis=1))\n",
    "res_dem = mod_dem.fit()\n",
    "#res_dem.summary()\n",
    "\n",
    "mod_rep = sm.OLS(rep_port_2016, beta_adj_msci_factor.drop('M2US000V', axis=1))\n",
    "res_rep = mod_rep.fit()\n",
    "#res_rep.summary()"
   ]
  },
  {
   "cell_type": "code",
   "execution_count": 218,
   "metadata": {},
   "outputs": [
    {
     "data": {
      "text/plain": [
       "M2US        1.016843\n",
       "M2US000$    0.301640\n",
       "M2USEV      0.375679\n",
       "M2USSNQ    -0.397027\n",
       "M2US000G    0.004434\n",
       "M2USQU      0.407067\n",
       "M2US00MV    0.552760\n",
       "M2USSC     -0.095519\n",
       "M2USVT      1.225010\n",
       "GSIN        0.069846\n",
       "constant   -0.000789\n",
       "dtype: float64"
      ]
     },
     "execution_count": 218,
     "metadata": {},
     "output_type": "execute_result"
    }
   ],
   "source": [
    "res_dem.params"
   ]
  },
  {
   "cell_type": "code",
   "execution_count": 219,
   "metadata": {},
   "outputs": [
    {
     "data": {
      "text/plain": [
       "M2US        1.264877\n",
       "M2US000$    0.361764\n",
       "M2USEV     -0.303819\n",
       "M2USSNQ    -0.190524\n",
       "M2US000G   -2.118831\n",
       "M2USQU      0.190234\n",
       "M2US00MV   -0.171182\n",
       "M2USSC     -0.068940\n",
       "M2USVT     -3.860310\n",
       "GSIN        0.037370\n",
       "constant   -0.000012\n",
       "dtype: float64"
      ]
     },
     "execution_count": 219,
     "metadata": {},
     "output_type": "execute_result"
    }
   ],
   "source": [
    "res_rep.params"
   ]
  },
  {
   "cell_type": "code",
   "execution_count": 220,
   "metadata": {},
   "outputs": [
    {
     "data": {
      "text/html": [
       "<table class=\"simpletable\">\n",
       "<caption>OLS Regression Results</caption>\n",
       "<tr>\n",
       "  <th>Dep. Variable:</th>            <td>y</td>        <th>  R-squared:         </th> <td>   0.769</td>\n",
       "</tr>\n",
       "<tr>\n",
       "  <th>Model:</th>                   <td>OLS</td>       <th>  Adj. R-squared:    </th> <td>   0.760</td>\n",
       "</tr>\n",
       "<tr>\n",
       "  <th>Method:</th>             <td>Least Squares</td>  <th>  F-statistic:       </th> <td>   83.08</td>\n",
       "</tr>\n",
       "<tr>\n",
       "  <th>Date:</th>             <td>Fri, 21 Feb 2020</td> <th>  Prob (F-statistic):</th> <td>1.81e-73</td>\n",
       "</tr>\n",
       "<tr>\n",
       "  <th>Time:</th>                 <td>12:08:31</td>     <th>  Log-Likelihood:    </th> <td>  1023.9</td>\n",
       "</tr>\n",
       "<tr>\n",
       "  <th>No. Observations:</th>      <td>   260</td>      <th>  AIC:               </th> <td>  -2026.</td>\n",
       "</tr>\n",
       "<tr>\n",
       "  <th>Df Residuals:</th>          <td>   249</td>      <th>  BIC:               </th> <td>  -1987.</td>\n",
       "</tr>\n",
       "<tr>\n",
       "  <th>Df Model:</th>              <td>    10</td>      <th>                     </th>     <td> </td>   \n",
       "</tr>\n",
       "<tr>\n",
       "  <th>Covariance Type:</th>      <td>nonrobust</td>    <th>                     </th>     <td> </td>   \n",
       "</tr>\n",
       "</table>\n",
       "<table class=\"simpletable\">\n",
       "<tr>\n",
       "      <td></td>        <th>coef</th>     <th>std err</th>      <th>t</th>      <th>P>|t|</th>  <th>[0.025</th>    <th>0.975]</th>  \n",
       "</tr>\n",
       "<tr>\n",
       "  <th>M2US</th>     <td>    1.0168</td> <td>    0.037</td> <td>   27.811</td> <td> 0.000</td> <td>    0.945</td> <td>    1.089</td>\n",
       "</tr>\n",
       "<tr>\n",
       "  <th>M2US000$</th> <td>    0.3016</td> <td>    0.140</td> <td>    2.153</td> <td> 0.032</td> <td>    0.026</td> <td>    0.578</td>\n",
       "</tr>\n",
       "<tr>\n",
       "  <th>M2USEV</th>   <td>    0.3757</td> <td>    0.165</td> <td>    2.283</td> <td> 0.023</td> <td>    0.052</td> <td>    0.700</td>\n",
       "</tr>\n",
       "<tr>\n",
       "  <th>M2USSNQ</th>  <td>   -0.3970</td> <td>    0.413</td> <td>   -0.961</td> <td> 0.337</td> <td>   -1.211</td> <td>    0.417</td>\n",
       "</tr>\n",
       "<tr>\n",
       "  <th>M2US000G</th> <td>    0.0044</td> <td>    0.407</td> <td>    0.011</td> <td> 0.991</td> <td>   -0.798</td> <td>    0.807</td>\n",
       "</tr>\n",
       "<tr>\n",
       "  <th>M2USQU</th>   <td>    0.4071</td> <td>    0.323</td> <td>    1.262</td> <td> 0.208</td> <td>   -0.228</td> <td>    1.043</td>\n",
       "</tr>\n",
       "<tr>\n",
       "  <th>M2US00MV</th> <td>    0.5528</td> <td>    0.157</td> <td>    3.517</td> <td> 0.001</td> <td>    0.243</td> <td>    0.862</td>\n",
       "</tr>\n",
       "<tr>\n",
       "  <th>M2USSC</th>   <td>   -0.0955</td> <td>    0.107</td> <td>   -0.891</td> <td> 0.374</td> <td>   -0.307</td> <td>    0.116</td>\n",
       "</tr>\n",
       "<tr>\n",
       "  <th>M2USVT</th>   <td>    1.2250</td> <td>    0.466</td> <td>    2.627</td> <td> 0.009</td> <td>    0.307</td> <td>    2.144</td>\n",
       "</tr>\n",
       "<tr>\n",
       "  <th>GSIN</th>     <td>    0.0698</td> <td>    0.086</td> <td>    0.813</td> <td> 0.417</td> <td>   -0.099</td> <td>    0.239</td>\n",
       "</tr>\n",
       "<tr>\n",
       "  <th>constant</th> <td>   -0.0008</td> <td>    0.000</td> <td>   -2.601</td> <td> 0.010</td> <td>   -0.001</td> <td>   -0.000</td>\n",
       "</tr>\n",
       "</table>\n",
       "<table class=\"simpletable\">\n",
       "<tr>\n",
       "  <th>Omnibus:</th>       <td>96.628</td> <th>  Durbin-Watson:     </th> <td>   2.025</td> \n",
       "</tr>\n",
       "<tr>\n",
       "  <th>Prob(Omnibus):</th> <td> 0.000</td> <th>  Jarque-Bera (JB):  </th> <td> 735.826</td> \n",
       "</tr>\n",
       "<tr>\n",
       "  <th>Skew:</th>          <td>-1.265</td> <th>  Prob(JB):          </th> <td>1.65e-160</td>\n",
       "</tr>\n",
       "<tr>\n",
       "  <th>Kurtosis:</th>      <td>10.844</td> <th>  Cond. No.          </th> <td>1.96e+03</td> \n",
       "</tr>\n",
       "</table><br/><br/>Warnings:<br/>[1] Standard Errors assume that the covariance matrix of the errors is correctly specified.<br/>[2] The condition number is large, 1.96e+03. This might indicate that there are<br/>strong multicollinearity or other numerical problems."
      ],
      "text/plain": [
       "<class 'statsmodels.iolib.summary.Summary'>\n",
       "\"\"\"\n",
       "                            OLS Regression Results                            \n",
       "==============================================================================\n",
       "Dep. Variable:                      y   R-squared:                       0.769\n",
       "Model:                            OLS   Adj. R-squared:                  0.760\n",
       "Method:                 Least Squares   F-statistic:                     83.08\n",
       "Date:                Fri, 21 Feb 2020   Prob (F-statistic):           1.81e-73\n",
       "Time:                        12:08:31   Log-Likelihood:                 1023.9\n",
       "No. Observations:                 260   AIC:                            -2026.\n",
       "Df Residuals:                     249   BIC:                            -1987.\n",
       "Df Model:                          10                                         \n",
       "Covariance Type:            nonrobust                                         \n",
       "==============================================================================\n",
       "                 coef    std err          t      P>|t|      [0.025      0.975]\n",
       "------------------------------------------------------------------------------\n",
       "M2US           1.0168      0.037     27.811      0.000       0.945       1.089\n",
       "M2US000$       0.3016      0.140      2.153      0.032       0.026       0.578\n",
       "M2USEV         0.3757      0.165      2.283      0.023       0.052       0.700\n",
       "M2USSNQ       -0.3970      0.413     -0.961      0.337      -1.211       0.417\n",
       "M2US000G       0.0044      0.407      0.011      0.991      -0.798       0.807\n",
       "M2USQU         0.4071      0.323      1.262      0.208      -0.228       1.043\n",
       "M2US00MV       0.5528      0.157      3.517      0.001       0.243       0.862\n",
       "M2USSC        -0.0955      0.107     -0.891      0.374      -0.307       0.116\n",
       "M2USVT         1.2250      0.466      2.627      0.009       0.307       2.144\n",
       "GSIN           0.0698      0.086      0.813      0.417      -0.099       0.239\n",
       "constant      -0.0008      0.000     -2.601      0.010      -0.001      -0.000\n",
       "==============================================================================\n",
       "Omnibus:                       96.628   Durbin-Watson:                   2.025\n",
       "Prob(Omnibus):                  0.000   Jarque-Bera (JB):              735.826\n",
       "Skew:                          -1.265   Prob(JB):                    1.65e-160\n",
       "Kurtosis:                      10.844   Cond. No.                     1.96e+03\n",
       "==============================================================================\n",
       "\n",
       "Warnings:\n",
       "[1] Standard Errors assume that the covariance matrix of the errors is correctly specified.\n",
       "[2] The condition number is large, 1.96e+03. This might indicate that there are\n",
       "strong multicollinearity or other numerical problems.\n",
       "\"\"\""
      ]
     },
     "execution_count": 220,
     "metadata": {},
     "output_type": "execute_result"
    }
   ],
   "source": [
    "res_dem.summary()"
   ]
  },
  {
   "cell_type": "code",
   "execution_count": 221,
   "metadata": {},
   "outputs": [
    {
     "data": {
      "text/plain": [
       "<matplotlib.axes._subplots.AxesSubplot at 0x2283f675348>"
      ]
     },
     "execution_count": 221,
     "metadata": {},
     "output_type": "execute_result"
    },
    {
     "data": {
      "image/png": "[encoded data removed]",
      "text/plain": [
       "<Figure size 432x288 with 2 Axes>"
      ]
     },
     "metadata": {
      "needs_background": "light"
     },
     "output_type": "display_data"
    }
   ],
   "source": [
    "sn.heatmap(beta_adj_msci_factor.corr())"
   ]
  },
  {
   "cell_type": "code",
   "execution_count": null,
   "metadata": {},
   "outputs": [],
   "source": []
  }
 ],
 "metadata": {
  "kernelspec": {
   "display_name": "Python 3",
   "language": "python",
   "name": "python3"
  },
  "language_info": {
   "codemirror_mode": {
    "name": "ipython",
    "version": 3
   },
   "file_extension": ".py",
   "mimetype": "text/x-python",
   "name": "python",
   "nbconvert_exporter": "python",
   "pygments_lexer": "ipython3",
   "version": "3.7.4"
  }
 },
 "nbformat": 4,
 "nbformat_minor": 2
}
